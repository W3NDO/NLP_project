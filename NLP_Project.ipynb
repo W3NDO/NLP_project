{
 "cells": [
  {
   "cell_type": "markdown",
   "metadata": {},
   "source": [
    "# NLP Project\n",
    "## Libraries"
   ]
  },
  {
   "cell_type": "code",
   "execution_count": 1,
   "metadata": {},
   "outputs": [],
   "source": [
    "#algorithms\n",
    "from sklearn.linear_model import LogisticRegression\n",
    "from sklearn.svm import SVC\n",
    "from sklearn.naive_bayes import MultinomialNB\n",
    "\n",
    "#model validation and hyper-parameter tuning\n",
    "from sklearn.model_selection import GridSearchCV, RandomizedSearchCV, train_test_split\n",
    "from sklearn.metrics import accuracy_score, plot_confusion_matrix, classification_report, precision_score, recall_score\n",
    "from sklearn.base import BaseEstimator, TransformerMixin\n",
    "from sklearn.pipeline import Pipeline\n",
    "\n",
    "#tokenization and stop words\n",
    "from sklearn.feature_extraction.text import CountVectorizer, TfidfVectorizer\n",
    "from spacy.lang.en import STOP_WORDS\n",
    "\n",
    "#data manipulation\n",
    "import pandas as pd\n",
    "import numpy as np\n",
    "import gzip\n",
    "import warnings\n",
    "warnings.filterwarnings('ignore')"
   ]
  },
  {
   "cell_type": "markdown",
   "metadata": {},
   "source": [
    "## Data Loading and Preprocessing"
   ]
  },
  {
   "cell_type": "code",
   "execution_count": 2,
   "metadata": {},
   "outputs": [],
   "source": [
    "train = pd.read_csv('train.csv')"
   ]
  },
  {
   "cell_type": "code",
   "execution_count": 3,
   "metadata": {},
   "outputs": [
    {
     "data": {
      "text/html": [
       "<div>\n",
       "<style scoped>\n",
       "    .dataframe tbody tr th:only-of-type {\n",
       "        vertical-align: middle;\n",
       "    }\n",
       "\n",
       "    .dataframe tbody tr th {\n",
       "        vertical-align: top;\n",
       "    }\n",
       "\n",
       "    .dataframe thead th {\n",
       "        text-align: right;\n",
       "    }\n",
       "</style>\n",
       "<table border=\"1\" class=\"dataframe\">\n",
       "  <thead>\n",
       "    <tr style=\"text-align: right;\">\n",
       "      <th></th>\n",
       "      <th>id</th>\n",
       "      <th>keyword</th>\n",
       "      <th>location</th>\n",
       "      <th>text</th>\n",
       "      <th>target</th>\n",
       "    </tr>\n",
       "  </thead>\n",
       "  <tbody>\n",
       "    <tr>\n",
       "      <th>0</th>\n",
       "      <td>1</td>\n",
       "      <td>NaN</td>\n",
       "      <td>NaN</td>\n",
       "      <td>Our Deeds are the Reason of this #earthquake M...</td>\n",
       "      <td>1</td>\n",
       "    </tr>\n",
       "    <tr>\n",
       "      <th>1</th>\n",
       "      <td>4</td>\n",
       "      <td>NaN</td>\n",
       "      <td>NaN</td>\n",
       "      <td>Forest fire near La Ronge Sask. Canada</td>\n",
       "      <td>1</td>\n",
       "    </tr>\n",
       "    <tr>\n",
       "      <th>2</th>\n",
       "      <td>5</td>\n",
       "      <td>NaN</td>\n",
       "      <td>NaN</td>\n",
       "      <td>All residents asked to 'shelter in place' are ...</td>\n",
       "      <td>1</td>\n",
       "    </tr>\n",
       "    <tr>\n",
       "      <th>3</th>\n",
       "      <td>6</td>\n",
       "      <td>NaN</td>\n",
       "      <td>NaN</td>\n",
       "      <td>13,000 people receive #wildfires evacuation or...</td>\n",
       "      <td>1</td>\n",
       "    </tr>\n",
       "    <tr>\n",
       "      <th>4</th>\n",
       "      <td>7</td>\n",
       "      <td>NaN</td>\n",
       "      <td>NaN</td>\n",
       "      <td>Just got sent this photo from Ruby #Alaska as ...</td>\n",
       "      <td>1</td>\n",
       "    </tr>\n",
       "  </tbody>\n",
       "</table>\n",
       "</div>"
      ],
      "text/plain": [
       "   id keyword location                                               text  \\\n",
       "0   1     NaN      NaN  Our Deeds are the Reason of this #earthquake M...   \n",
       "1   4     NaN      NaN             Forest fire near La Ronge Sask. Canada   \n",
       "2   5     NaN      NaN  All residents asked to 'shelter in place' are ...   \n",
       "3   6     NaN      NaN  13,000 people receive #wildfires evacuation or...   \n",
       "4   7     NaN      NaN  Just got sent this photo from Ruby #Alaska as ...   \n",
       "\n",
       "   target  \n",
       "0       1  \n",
       "1       1  \n",
       "2       1  \n",
       "3       1  \n",
       "4       1  "
      ]
     },
     "execution_count": 3,
     "metadata": {},
     "output_type": "execute_result"
    }
   ],
   "source": [
    "train.head()"
   ]
  },
  {
   "cell_type": "code",
   "execution_count": 4,
   "metadata": {},
   "outputs": [
    {
     "name": "stdout",
     "output_type": "stream",
     "text": [
      "<class 'pandas.core.frame.DataFrame'>\n",
      "RangeIndex: 7613 entries, 0 to 7612\n",
      "Data columns (total 5 columns):\n",
      " #   Column    Non-Null Count  Dtype \n",
      "---  ------    --------------  ----- \n",
      " 0   id        7613 non-null   int64 \n",
      " 1   keyword   7552 non-null   object\n",
      " 2   location  5080 non-null   object\n",
      " 3   text      7613 non-null   object\n",
      " 4   target    7613 non-null   int64 \n",
      "dtypes: int64(2), object(3)\n",
      "memory usage: 297.5+ KB\n"
     ]
    }
   ],
   "source": [
    "train.info()"
   ]
  },
  {
   "cell_type": "code",
   "execution_count": 5,
   "metadata": {},
   "outputs": [
    {
     "data": {
      "text/plain": [
       "['ablaze',\n",
       " 'accident',\n",
       " 'aftershock',\n",
       " 'airplane%20accident',\n",
       " 'ambulance',\n",
       " 'annihilated',\n",
       " 'annihilation',\n",
       " 'apocalypse',\n",
       " 'armageddon',\n",
       " 'army',\n",
       " 'arson',\n",
       " 'arsonist',\n",
       " 'attack',\n",
       " 'attacked',\n",
       " 'avalanche',\n",
       " 'battle',\n",
       " 'bioterror',\n",
       " 'bioterrorism',\n",
       " 'blaze',\n",
       " 'blazing',\n",
       " 'bleeding',\n",
       " 'blew%20up',\n",
       " 'blight',\n",
       " 'blizzard',\n",
       " 'blood',\n",
       " 'bloody',\n",
       " 'blown%20up',\n",
       " 'body%20bag',\n",
       " 'body%20bagging',\n",
       " 'body%20bags',\n",
       " 'bomb',\n",
       " 'bombed',\n",
       " 'bombing',\n",
       " 'bridge%20collapse',\n",
       " 'buildings%20burning',\n",
       " 'buildings%20on%20fire',\n",
       " 'burned',\n",
       " 'burning',\n",
       " 'burning%20buildings',\n",
       " 'bush%20fires',\n",
       " 'casualties',\n",
       " 'casualty',\n",
       " 'catastrophe',\n",
       " 'catastrophic',\n",
       " 'chemical%20emergency',\n",
       " 'cliff%20fall',\n",
       " 'collapse',\n",
       " 'collapsed',\n",
       " 'collide',\n",
       " 'collided',\n",
       " 'collision',\n",
       " 'crash',\n",
       " 'crashed',\n",
       " 'crush',\n",
       " 'crushed',\n",
       " 'curfew',\n",
       " 'cyclone',\n",
       " 'damage',\n",
       " 'danger',\n",
       " 'dead',\n",
       " 'death',\n",
       " 'deaths',\n",
       " 'debris',\n",
       " 'deluge',\n",
       " 'deluged',\n",
       " 'demolish',\n",
       " 'demolished',\n",
       " 'demolition',\n",
       " 'derail',\n",
       " 'derailed',\n",
       " 'derailment',\n",
       " 'desolate',\n",
       " 'desolation',\n",
       " 'destroy',\n",
       " 'destroyed',\n",
       " 'destruction',\n",
       " 'detonate',\n",
       " 'detonation',\n",
       " 'devastated',\n",
       " 'devastation',\n",
       " 'disaster',\n",
       " 'displaced',\n",
       " 'drought',\n",
       " 'drown',\n",
       " 'drowned',\n",
       " 'drowning',\n",
       " 'dust%20storm',\n",
       " 'earthquake',\n",
       " 'electrocute',\n",
       " 'electrocuted',\n",
       " 'emergency',\n",
       " 'emergency%20plan',\n",
       " 'emergency%20services',\n",
       " 'engulfed',\n",
       " 'epicentre',\n",
       " 'evacuate',\n",
       " 'evacuated',\n",
       " 'evacuation',\n",
       " 'explode',\n",
       " 'exploded',\n",
       " 'explosion',\n",
       " 'eyewitness',\n",
       " 'famine',\n",
       " 'fatal',\n",
       " 'fatalities',\n",
       " 'fatality',\n",
       " 'fear',\n",
       " 'fire',\n",
       " 'fire%20truck',\n",
       " 'first%20responders',\n",
       " 'flames',\n",
       " 'flattened',\n",
       " 'flood',\n",
       " 'flooding',\n",
       " 'floods',\n",
       " 'forest%20fire',\n",
       " 'forest%20fires',\n",
       " 'hail',\n",
       " 'hailstorm',\n",
       " 'harm',\n",
       " 'hazard',\n",
       " 'hazardous',\n",
       " 'heat%20wave',\n",
       " 'hellfire',\n",
       " 'hijack',\n",
       " 'hijacker',\n",
       " 'hijacking',\n",
       " 'hostage',\n",
       " 'hostages',\n",
       " 'hurricane',\n",
       " 'injured',\n",
       " 'injuries',\n",
       " 'injury',\n",
       " 'inundated',\n",
       " 'inundation',\n",
       " 'landslide',\n",
       " 'lava',\n",
       " 'lightning',\n",
       " 'loud%20bang',\n",
       " 'mass%20murder',\n",
       " 'mass%20murderer',\n",
       " 'massacre',\n",
       " 'mayhem',\n",
       " 'meltdown',\n",
       " 'military',\n",
       " 'mudslide',\n",
       " 'natural%20disaster',\n",
       " 'nuclear%20disaster',\n",
       " 'nuclear%20reactor',\n",
       " 'obliterate',\n",
       " 'obliterated',\n",
       " 'obliteration',\n",
       " 'oil%20spill',\n",
       " 'outbreak',\n",
       " 'pandemonium',\n",
       " 'panic',\n",
       " 'panicking',\n",
       " 'police',\n",
       " 'quarantine',\n",
       " 'quarantined',\n",
       " 'radiation%20emergency',\n",
       " 'rainstorm',\n",
       " 'razed',\n",
       " 'refugees',\n",
       " 'rescue',\n",
       " 'rescued',\n",
       " 'rescuers',\n",
       " 'riot',\n",
       " 'rioting',\n",
       " 'rubble',\n",
       " 'ruin',\n",
       " 'sandstorm',\n",
       " 'screamed',\n",
       " 'screaming',\n",
       " 'screams',\n",
       " 'seismic',\n",
       " 'sinkhole',\n",
       " 'sinking',\n",
       " 'siren',\n",
       " 'sirens',\n",
       " 'smoke',\n",
       " 'snowstorm',\n",
       " 'storm',\n",
       " 'stretcher',\n",
       " 'structural%20failure',\n",
       " 'suicide%20bomb',\n",
       " 'suicide%20bomber',\n",
       " 'suicide%20bombing',\n",
       " 'sunk',\n",
       " 'survive',\n",
       " 'survived',\n",
       " 'survivors',\n",
       " 'terrorism',\n",
       " 'terrorist',\n",
       " 'threat',\n",
       " 'thunder',\n",
       " 'thunderstorm',\n",
       " 'tornado',\n",
       " 'tragedy',\n",
       " 'trapped',\n",
       " 'trauma',\n",
       " 'traumatised',\n",
       " 'trouble',\n",
       " 'tsunami',\n",
       " 'twister',\n",
       " 'typhoon',\n",
       " 'upheaval',\n",
       " 'violent%20storm',\n",
       " 'volcano',\n",
       " 'war%20zone',\n",
       " 'weapon',\n",
       " 'weapons',\n",
       " 'whirlwind',\n",
       " 'wild%20fires',\n",
       " 'wildfire',\n",
       " 'windstorm',\n",
       " 'wounded',\n",
       " 'wounds',\n",
       " 'wreck',\n",
       " 'wreckage',\n",
       " 'wrecked']"
      ]
     },
     "execution_count": 5,
     "metadata": {},
     "output_type": "execute_result"
    }
   ],
   "source": [
    "key_words = list(train['keyword'].unique())[1:]\n",
    "key_words"
   ]
  },
  {
   "cell_type": "code",
   "execution_count": 6,
   "metadata": {},
   "outputs": [],
   "source": [
    "#copy the training set into a new dataframe for manipulation purposes\n",
    "\n",
    "data = train.copy()"
   ]
  },
  {
   "cell_type": "markdown",
   "metadata": {},
   "source": [
    "#### Keyword Column\n",
    "If less than 1% of the keyword values are null, drop the null null rows."
   ]
  },
  {
   "cell_type": "code",
   "execution_count": 10,
   "metadata": {},
   "outputs": [],
   "source": [
    "sum_null_keywords = data.keyword.isnull().sum()\n",
    "total_keyword_count = data.keyword.count()\n",
    "percentage_of_null_keywords = (sum_null_keywords/total_keyword_count) *100"
   ]
  },
  {
   "cell_type": "code",
   "execution_count": 13,
   "metadata": {},
   "outputs": [
    {
     "name": "stdout",
     "output_type": "stream",
     "text": [
      "0.81 % of keywords are null\n"
     ]
    }
   ],
   "source": [
    "print('{:.2f} % of keywords are null'.format(percentage_of_null_keywords))"
   ]
  },
  {
   "cell_type": "markdown",
   "metadata": {},
   "source": [
    "#### Location Column"
   ]
  },
  {
   "cell_type": "code",
   "execution_count": 14,
   "metadata": {},
   "outputs": [],
   "source": [
    "sum_of_null_locations = data.location.isnull().sum()\n",
    "total_location_count = data.location.count()\n",
    "percentage_of_null_locations = (sum_of_null_locations/total_location_count) * 100"
   ]
  },
  {
   "cell_type": "code",
   "execution_count": 15,
   "metadata": {
    "scrolled": true
   },
   "outputs": [
    {
     "name": "stdout",
     "output_type": "stream",
     "text": [
      "49.86 % of keywords are null\n"
     ]
    }
   ],
   "source": [
    "print('{:.2f} % of keywords are null'.format(percentage_of_null_locations))"
   ]
  },
  {
   "cell_type": "markdown",
   "metadata": {},
   "source": [
    "#### Drop rows with null keyword and location"
   ]
  },
  {
   "cell_type": "code",
   "execution_count": 16,
   "metadata": {},
   "outputs": [],
   "source": [
    "data = data.dropna(axis=0, subset=['keyword', 'location'], how = 'all')"
   ]
  },
  {
   "cell_type": "code",
   "execution_count": 17,
   "metadata": {},
   "outputs": [
    {
     "data": {
      "text/plain": [
       "id             0\n",
       "keyword        0\n",
       "location    2472\n",
       "text           0\n",
       "target         0\n",
       "dtype: int64"
      ]
     },
     "execution_count": 17,
     "metadata": {},
     "output_type": "execute_result"
    }
   ],
   "source": [
    "data.isna().sum()"
   ]
  },
  {
   "cell_type": "markdown",
   "metadata": {},
   "source": [
    "### Preprocessing"
   ]
  },
  {
   "cell_type": "code",
   "execution_count": 18,
   "metadata": {},
   "outputs": [],
   "source": [
    "# column select transformer\n",
    "\n",
    "class KeySelector(BaseEstimator, TransformerMixin):\n",
    "    def __init__(self, key):\n",
    "        self.key = key\n",
    "            \n",
    "    def fit(self, X, y=None):\n",
    "        return self\n",
    "    \n",
    "    def transform(self, X):\n",
    "        return [row[self.key] for row in X]"
   ]
  },
  {
   "cell_type": "code",
   "execution_count": null,
   "metadata": {},
   "outputs": [],
   "source": []
  },
  {
   "cell_type": "code",
   "execution_count": null,
   "metadata": {},
   "outputs": [],
   "source": []
  }
 ],
 "metadata": {
  "kernelspec": {
   "display_name": "Python 3",
   "language": "python",
   "name": "python3"
  },
  "language_info": {
   "codemirror_mode": {
    "name": "ipython",
    "version": 3
   },
   "file_extension": ".py",
   "mimetype": "text/x-python",
   "name": "python",
   "nbconvert_exporter": "python",
   "pygments_lexer": "ipython3",
   "version": "3.7.7"
  }
 },
 "nbformat": 4,
 "nbformat_minor": 4
}
